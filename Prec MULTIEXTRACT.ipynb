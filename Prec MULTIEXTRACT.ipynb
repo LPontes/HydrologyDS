{
 "cells": [
  {
   "cell_type": "markdown",
   "metadata": {},
   "source": [
    "# Export daily precipitation in mm"
   ]
  },
  {
   "cell_type": "code",
   "execution_count": 10,
   "metadata": {
    "collapsed": true
   },
   "outputs": [],
   "source": [
    "%matplotlib inline\n",
    "import xarray as xr\n",
    "import pandas as pd\n",
    "import numpy as np\n"
   ]
  },
  {
   "cell_type": "markdown",
   "metadata": {},
   "source": [
    "## Import dataset"
   ]
  },
  {
   "cell_type": "code",
   "execution_count": 11,
   "metadata": {},
   "outputs": [
    {
     "data": {
      "text/plain": [
       "Frozen(OrderedDict([('lon', <xarray.IndexVariable 'lon' (lon: 38)>\n",
       "array([-57.75, -57.25, -56.75, -56.25, -55.75, -55.25, -54.75, -54.25, -53.75,\n",
       "       -53.25, -52.75, -52.25, -51.75, -51.25, -50.75, -50.25, -49.75, -49.25,\n",
       "       -48.75, -48.25, -47.75, -47.25, -46.75, -46.25, -45.75, -45.25, -44.75,\n",
       "       -44.25, -43.75, -43.25, -42.75, -42.25, -41.75, -41.25, -40.75, -40.25,\n",
       "       -39.75, -39.25])\n",
       "Attributes:\n",
       "    standard_name:  longitude\n",
       "    long_name:      longitude\n",
       "    units:          degrees_east\n",
       "    axis:           X), ('lat', <xarray.IndexVariable 'lat' (lat: 26)>\n",
       "array([-16.25, -16.75, -17.25, -17.75, -18.25, -18.75, -19.25, -19.75, -20.25,\n",
       "       -20.75, -21.25, -21.75, -22.25, -22.75, -23.25, -23.75, -24.25, -24.75,\n",
       "       -25.25, -25.75, -26.25, -26.75, -27.25, -27.75, -28.25, -28.75])\n",
       "Attributes:\n",
       "    standard_name:  latitude\n",
       "    long_name:      latitude\n",
       "    units:          degrees_north\n",
       "    axis:           Y), ('time', <xarray.IndexVariable 'time' (time: 3653)>\n",
       "array(['1971-01-01T00:00:00.000000000', '1971-01-02T00:00:00.000000000',\n",
       "       '1971-01-03T00:00:00.000000000', ..., '1980-12-29T00:00:00.000000000',\n",
       "       '1980-12-30T00:00:00.000000000', '1980-12-31T00:00:00.000000000'],\n",
       "      dtype='datetime64[ns]')\n",
       "Attributes:\n",
       "    standard_name:  time\n",
       "    long_name:      time\n",
       "    axis:           T), ('pr', <xarray.Variable (time: 3653, lat: 26, lon: 38)>\n",
       "[3609164 values with dtype=float32]\n",
       "Attributes:\n",
       "    standard_name:  precipitation_flux\n",
       "    long_name:      Precipitation\n",
       "    units:          kg m-2 s-1)]))"
      ]
     },
     "execution_count": 11,
     "metadata": {},
     "output_type": "execute_result"
    }
   ],
   "source": [
    "df0 = xr.open_dataset(\"pr_day_GFDL-ESM2M_historical_r1i1p1_EWEMBI_landonly_19710101-19801231_sp_exp.nc4\")\n",
    "df1 = xr.open_dataset(\"pr_day_GFDL-ESM2M_historical_r1i1p1_EWEMBI_landonly_19810101-19901231_sp_exp.nc4\")\n",
    "df2 = xr.open_dataset(\"pr_day_GFDL-ESM2M_historical_r1i1p1_EWEMBI_landonly_19910101-20001231_sp_exp.nc4\")\n",
    "df3 = xr.open_dataset(\"pr_day_GFDL-ESM2M_historical_r1i1p1_EWEMBI_landonly_20010101-20051231_sp_exp.nc4\")\n",
    "df=[df0, df1, df2, df3]\n",
    "df0.variables"
   ]
  },
  {
   "cell_type": "markdown",
   "metadata": {},
   "source": [
    "## extract"
   ]
  },
  {
   "cell_type": "code",
   "execution_count": 12,
   "metadata": {
    "collapsed": true
   },
   "outputs": [],
   "source": [
    "points=[]\n",
    "for i in [-22.25, -22.75, -23.25]:\n",
    "    for j in [-47.75, -47.25, -46.75, -46.25]:\n",
    "        points.append([i,j])"
   ]
  },
  {
   "cell_type": "code",
   "execution_count": 13,
   "metadata": {
    "collapsed": true
   },
   "outputs": [],
   "source": [
    "dec=[]\n",
    "for coords in points:\n",
    "    for ano in range(0,4):\n",
    "        dec.append(pd.DataFrame((df[ano].\n",
    "                                 sel(lon = coords[1], lat = coords[0])[\"pr\"]).data*3600*24 ,\n",
    "                                index = df[ano].sel(lon = coords[1], lat = coords[0]).time).round())"
   ]
  },
  {
   "cell_type": "code",
   "execution_count": 14,
   "metadata": {
    "collapsed": true
   },
   "outputs": [],
   "source": [
    "grid = []\n",
    "for i in range(0,len(dec),4):\n",
    "    grid.append(pd.concat(dec.copy()[i:i+4]))"
   ]
  },
  {
   "cell_type": "markdown",
   "metadata": {},
   "source": [
    "## Export "
   ]
  },
  {
   "cell_type": "code",
   "execution_count": 15,
   "metadata": {
    "collapsed": true
   },
   "outputs": [],
   "source": [
    "#já exporta no formato usado pelo SWAT\n",
    "for i in range(len(grid)):\n",
    "    grid[i].to_csv(path_or_buf= \"pr_grid\"+str(i)+\".txt\", index = False, header = [\"19710101\"])"
   ]
  },
  {
   "cell_type": "code",
   "execution_count": null,
   "metadata": {
    "collapsed": true
   },
   "outputs": [],
   "source": []
  },
  {
   "cell_type": "code",
   "execution_count": null,
   "metadata": {
    "collapsed": true
   },
   "outputs": [],
   "source": []
  },
  {
   "cell_type": "code",
   "execution_count": null,
   "metadata": {
    "collapsed": true
   },
   "outputs": [],
   "source": []
  },
  {
   "cell_type": "code",
   "execution_count": null,
   "metadata": {
    "collapsed": true
   },
   "outputs": [],
   "source": []
  },
  {
   "cell_type": "code",
   "execution_count": null,
   "metadata": {
    "collapsed": true
   },
   "outputs": [],
   "source": []
  },
  {
   "cell_type": "code",
   "execution_count": null,
   "metadata": {
    "collapsed": true
   },
   "outputs": [],
   "source": []
  },
  {
   "cell_type": "code",
   "execution_count": null,
   "metadata": {
    "collapsed": true
   },
   "outputs": [],
   "source": []
  },
  {
   "cell_type": "code",
   "execution_count": null,
   "metadata": {
    "collapsed": true
   },
   "outputs": [],
   "source": []
  },
  {
   "cell_type": "code",
   "execution_count": null,
   "metadata": {
    "collapsed": true
   },
   "outputs": [],
   "source": []
  },
  {
   "cell_type": "code",
   "execution_count": null,
   "metadata": {
    "collapsed": true
   },
   "outputs": [],
   "source": []
  },
  {
   "cell_type": "code",
   "execution_count": null,
   "metadata": {
    "collapsed": true
   },
   "outputs": [],
   "source": []
  },
  {
   "cell_type": "code",
   "execution_count": null,
   "metadata": {
    "collapsed": true
   },
   "outputs": [],
   "source": []
  },
  {
   "cell_type": "markdown",
   "metadata": {
    "collapsed": true
   },
   "source": [
    "# TESTS\n"
   ]
  },
  {
   "cell_type": "code",
   "execution_count": 130,
   "metadata": {
    "collapsed": true
   },
   "outputs": [],
   "source": [
    "dec=[]\n",
    "for coords in points:\n",
    "    for ano in range(0,4):\n",
    "        dec.append(pd.Series((df[ano].\n",
    "                                 sel(lon = coords[1], lat = coords[0])[\"tasmax\"]*3600*24/1000000).data))"
   ]
  },
  {
   "cell_type": "code",
   "execution_count": 136,
   "metadata": {
    "collapsed": true
   },
   "outputs": [],
   "source": [
    "grid0 = pd.concat(dec.copy()[0:4])\n",
    "grid1 = pd.concat(dec.copy()[4:8])\n",
    "grid2 = pd.concat(dec.copy()[8:12])\n",
    "grid3 = pd.concat(dec.copy()[12:16])\n",
    "grid4 = pd.concat(dec.copy()[16:20])\n",
    "grid5 = pd.concat(dec.copy()[20:24])\n",
    "grid6 = pd.concat(dec.copy()[24:28])\n",
    "grid7 = pd.concat(dec.copy()[28:32])\n",
    "grid8 = pd.concat(dec.copy()[32:36])\n",
    "grid9 = pd.concat(dec.copy()[36:40])\n",
    "grid10 = pd.concat(dec.copy()[40:44])\n",
    "grid11 = pd.concat(dec.copy()[44:48])\n",
    "grid = [grid0, grid1,grid2,grid3,grid4,grid5,grid6,grid7,grid8, grid9,grid10,grid11]"
   ]
  },
  {
   "cell_type": "code",
   "execution_count": 137,
   "metadata": {
    "collapsed": true
   },
   "outputs": [],
   "source": [
    "for i in range(len(grid)):\n",
    "    grid[i].to_csv()"
   ]
  },
  {
   "cell_type": "code",
   "execution_count": 142,
   "metadata": {},
   "outputs": [
    {
     "data": {
      "text/plain": [
       "array([ 18.979532,  16.227549,  17.721742, ...,  23.815862,  26.677926,\n",
       "        20.0995  ])"
      ]
     },
     "execution_count": 142,
     "metadata": {},
     "output_type": "execute_result"
    }
   ],
   "source": [
    "grid0.values[:]"
   ]
  },
  {
   "cell_type": "code",
   "execution_count": null,
   "metadata": {
    "collapsed": true
   },
   "outputs": [],
   "source": []
  },
  {
   "cell_type": "code",
   "execution_count": null,
   "metadata": {
    "collapsed": true
   },
   "outputs": [],
   "source": []
  },
  {
   "cell_type": "code",
   "execution_count": null,
   "metadata": {
    "collapsed": true
   },
   "outputs": [],
   "source": []
  },
  {
   "cell_type": "code",
   "execution_count": null,
   "metadata": {
    "collapsed": true
   },
   "outputs": [],
   "source": []
  },
  {
   "cell_type": "code",
   "execution_count": null,
   "metadata": {
    "collapsed": true
   },
   "outputs": [],
   "source": []
  },
  {
   "cell_type": "code",
   "execution_count": null,
   "metadata": {
    "collapsed": true
   },
   "outputs": [],
   "source": []
  },
  {
   "cell_type": "code",
   "execution_count": 6,
   "metadata": {},
   "outputs": [
    {
     "data": {
      "text/plain": [
       "defaultdict(list, {})"
      ]
     },
     "execution_count": 6,
     "metadata": {},
     "output_type": "execute_result"
    }
   ],
   "source": [
    "from collections import defaultdict\n",
    "m=defaultdict(list)\n",
    "m"
   ]
  },
  {
   "cell_type": "code",
   "execution_count": 61,
   "metadata": {
    "collapsed": true
   },
   "outputs": [],
   "source": []
  },
  {
   "cell_type": "code",
   "execution_count": 7,
   "metadata": {
    "collapsed": true
   },
   "outputs": [],
   "source": [
    "\n",
    "for i in range(5):\n",
    "    len(m[i])\n"
   ]
  },
  {
   "cell_type": "code",
   "execution_count": 62,
   "metadata": {
    "scrolled": true
   },
   "outputs": [
    {
     "data": {
      "text/html": [
       "<div>\n",
       "<style>\n",
       "    .dataframe thead tr:only-child th {\n",
       "        text-align: right;\n",
       "    }\n",
       "\n",
       "    .dataframe thead th {\n",
       "        text-align: left;\n",
       "    }\n",
       "\n",
       "    .dataframe tbody tr th {\n",
       "        vertical-align: top;\n",
       "    }\n",
       "</style>\n",
       "<table border=\"1\" class=\"dataframe\">\n",
       "  <thead>\n",
       "    <tr style=\"text-align: right;\">\n",
       "      <th></th>\n",
       "      <th>0</th>\n",
       "    </tr>\n",
       "    <tr>\n",
       "      <th>time</th>\n",
       "      <th></th>\n",
       "    </tr>\n",
       "  </thead>\n",
       "  <tbody>\n",
       "    <tr>\n",
       "      <th>2001-01-01</th>\n",
       "      <td>17.398046</td>\n",
       "    </tr>\n",
       "    <tr>\n",
       "      <th>2001-01-02</th>\n",
       "      <td>9.592203</td>\n",
       "    </tr>\n",
       "    <tr>\n",
       "      <th>2001-01-03</th>\n",
       "      <td>22.353700</td>\n",
       "    </tr>\n",
       "    <tr>\n",
       "      <th>2001-01-04</th>\n",
       "      <td>22.154392</td>\n",
       "    </tr>\n",
       "    <tr>\n",
       "      <th>2001-01-05</th>\n",
       "      <td>16.385834</td>\n",
       "    </tr>\n",
       "    <tr>\n",
       "      <th>2001-01-06</th>\n",
       "      <td>17.172856</td>\n",
       "    </tr>\n",
       "    <tr>\n",
       "      <th>2001-01-07</th>\n",
       "      <td>22.613202</td>\n",
       "    </tr>\n",
       "    <tr>\n",
       "      <th>2001-01-08</th>\n",
       "      <td>25.254366</td>\n",
       "    </tr>\n",
       "    <tr>\n",
       "      <th>2001-01-09</th>\n",
       "      <td>19.349718</td>\n",
       "    </tr>\n",
       "    <tr>\n",
       "      <th>2001-01-10</th>\n",
       "      <td>21.424792</td>\n",
       "    </tr>\n",
       "    <tr>\n",
       "      <th>2001-01-11</th>\n",
       "      <td>19.412968</td>\n",
       "    </tr>\n",
       "    <tr>\n",
       "      <th>2001-01-12</th>\n",
       "      <td>18.959710</td>\n",
       "    </tr>\n",
       "    <tr>\n",
       "      <th>2001-01-13</th>\n",
       "      <td>21.009154</td>\n",
       "    </tr>\n",
       "    <tr>\n",
       "      <th>2001-01-14</th>\n",
       "      <td>22.913288</td>\n",
       "    </tr>\n",
       "    <tr>\n",
       "      <th>2001-01-15</th>\n",
       "      <td>8.162275</td>\n",
       "    </tr>\n",
       "    <tr>\n",
       "      <th>2001-01-16</th>\n",
       "      <td>3.386454</td>\n",
       "    </tr>\n",
       "    <tr>\n",
       "      <th>2001-01-17</th>\n",
       "      <td>6.262746</td>\n",
       "    </tr>\n",
       "    <tr>\n",
       "      <th>2001-01-18</th>\n",
       "      <td>16.313952</td>\n",
       "    </tr>\n",
       "    <tr>\n",
       "      <th>2001-01-19</th>\n",
       "      <td>19.109040</td>\n",
       "    </tr>\n",
       "    <tr>\n",
       "      <th>2001-01-20</th>\n",
       "      <td>17.795436</td>\n",
       "    </tr>\n",
       "    <tr>\n",
       "      <th>2001-01-21</th>\n",
       "      <td>27.443296</td>\n",
       "    </tr>\n",
       "    <tr>\n",
       "      <th>2001-01-22</th>\n",
       "      <td>28.304720</td>\n",
       "    </tr>\n",
       "    <tr>\n",
       "      <th>2001-01-23</th>\n",
       "      <td>28.074536</td>\n",
       "    </tr>\n",
       "    <tr>\n",
       "      <th>2001-01-24</th>\n",
       "      <td>20.421212</td>\n",
       "    </tr>\n",
       "    <tr>\n",
       "      <th>2001-01-25</th>\n",
       "      <td>21.445338</td>\n",
       "    </tr>\n",
       "    <tr>\n",
       "      <th>2001-01-26</th>\n",
       "      <td>26.561100</td>\n",
       "    </tr>\n",
       "    <tr>\n",
       "      <th>2001-01-27</th>\n",
       "      <td>26.586880</td>\n",
       "    </tr>\n",
       "    <tr>\n",
       "      <th>2001-01-28</th>\n",
       "      <td>24.937510</td>\n",
       "    </tr>\n",
       "    <tr>\n",
       "      <th>2001-01-29</th>\n",
       "      <td>25.790898</td>\n",
       "    </tr>\n",
       "    <tr>\n",
       "      <th>2001-01-30</th>\n",
       "      <td>20.658620</td>\n",
       "    </tr>\n",
       "    <tr>\n",
       "      <th>...</th>\n",
       "      <td>...</td>\n",
       "    </tr>\n",
       "    <tr>\n",
       "      <th>2005-12-02</th>\n",
       "      <td>18.346836</td>\n",
       "    </tr>\n",
       "    <tr>\n",
       "      <th>2005-12-03</th>\n",
       "      <td>22.696220</td>\n",
       "    </tr>\n",
       "    <tr>\n",
       "      <th>2005-12-04</th>\n",
       "      <td>27.508312</td>\n",
       "    </tr>\n",
       "    <tr>\n",
       "      <th>2005-12-05</th>\n",
       "      <td>28.594992</td>\n",
       "    </tr>\n",
       "    <tr>\n",
       "      <th>2005-12-06</th>\n",
       "      <td>29.180488</td>\n",
       "    </tr>\n",
       "    <tr>\n",
       "      <th>2005-12-07</th>\n",
       "      <td>28.865412</td>\n",
       "    </tr>\n",
       "    <tr>\n",
       "      <th>2005-12-08</th>\n",
       "      <td>28.428462</td>\n",
       "    </tr>\n",
       "    <tr>\n",
       "      <th>2005-12-09</th>\n",
       "      <td>18.563036</td>\n",
       "    </tr>\n",
       "    <tr>\n",
       "      <th>2005-12-10</th>\n",
       "      <td>26.886416</td>\n",
       "    </tr>\n",
       "    <tr>\n",
       "      <th>2005-12-11</th>\n",
       "      <td>28.667610</td>\n",
       "    </tr>\n",
       "    <tr>\n",
       "      <th>2005-12-12</th>\n",
       "      <td>28.925874</td>\n",
       "    </tr>\n",
       "    <tr>\n",
       "      <th>2005-12-13</th>\n",
       "      <td>18.252036</td>\n",
       "    </tr>\n",
       "    <tr>\n",
       "      <th>2005-12-14</th>\n",
       "      <td>12.999336</td>\n",
       "    </tr>\n",
       "    <tr>\n",
       "      <th>2005-12-15</th>\n",
       "      <td>21.704466</td>\n",
       "    </tr>\n",
       "    <tr>\n",
       "      <th>2005-12-16</th>\n",
       "      <td>9.228031</td>\n",
       "    </tr>\n",
       "    <tr>\n",
       "      <th>2005-12-17</th>\n",
       "      <td>8.623416</td>\n",
       "    </tr>\n",
       "    <tr>\n",
       "      <th>2005-12-18</th>\n",
       "      <td>9.832341</td>\n",
       "    </tr>\n",
       "    <tr>\n",
       "      <th>2005-12-19</th>\n",
       "      <td>4.228313</td>\n",
       "    </tr>\n",
       "    <tr>\n",
       "      <th>2005-12-20</th>\n",
       "      <td>14.259243</td>\n",
       "    </tr>\n",
       "    <tr>\n",
       "      <th>2005-12-21</th>\n",
       "      <td>25.742284</td>\n",
       "    </tr>\n",
       "    <tr>\n",
       "      <th>2005-12-22</th>\n",
       "      <td>21.666608</td>\n",
       "    </tr>\n",
       "    <tr>\n",
       "      <th>2005-12-23</th>\n",
       "      <td>24.188980</td>\n",
       "    </tr>\n",
       "    <tr>\n",
       "      <th>2005-12-24</th>\n",
       "      <td>18.831882</td>\n",
       "    </tr>\n",
       "    <tr>\n",
       "      <th>2005-12-25</th>\n",
       "      <td>25.040788</td>\n",
       "    </tr>\n",
       "    <tr>\n",
       "      <th>2005-12-26</th>\n",
       "      <td>13.632262</td>\n",
       "    </tr>\n",
       "    <tr>\n",
       "      <th>2005-12-27</th>\n",
       "      <td>21.697468</td>\n",
       "    </tr>\n",
       "    <tr>\n",
       "      <th>2005-12-28</th>\n",
       "      <td>16.417594</td>\n",
       "    </tr>\n",
       "    <tr>\n",
       "      <th>2005-12-29</th>\n",
       "      <td>19.213328</td>\n",
       "    </tr>\n",
       "    <tr>\n",
       "      <th>2005-12-30</th>\n",
       "      <td>25.001082</td>\n",
       "    </tr>\n",
       "    <tr>\n",
       "      <th>2005-12-31</th>\n",
       "      <td>10.734250</td>\n",
       "    </tr>\n",
       "  </tbody>\n",
       "</table>\n",
       "<p>1826 rows × 1 columns</p>\n",
       "</div>"
      ],
      "text/plain": [
       "                    0\n",
       "time                 \n",
       "2001-01-01  17.398046\n",
       "2001-01-02   9.592203\n",
       "2001-01-03  22.353700\n",
       "2001-01-04  22.154392\n",
       "2001-01-05  16.385834\n",
       "2001-01-06  17.172856\n",
       "2001-01-07  22.613202\n",
       "2001-01-08  25.254366\n",
       "2001-01-09  19.349718\n",
       "2001-01-10  21.424792\n",
       "2001-01-11  19.412968\n",
       "2001-01-12  18.959710\n",
       "2001-01-13  21.009154\n",
       "2001-01-14  22.913288\n",
       "2001-01-15   8.162275\n",
       "2001-01-16   3.386454\n",
       "2001-01-17   6.262746\n",
       "2001-01-18  16.313952\n",
       "2001-01-19  19.109040\n",
       "2001-01-20  17.795436\n",
       "2001-01-21  27.443296\n",
       "2001-01-22  28.304720\n",
       "2001-01-23  28.074536\n",
       "2001-01-24  20.421212\n",
       "2001-01-25  21.445338\n",
       "2001-01-26  26.561100\n",
       "2001-01-27  26.586880\n",
       "2001-01-28  24.937510\n",
       "2001-01-29  25.790898\n",
       "2001-01-30  20.658620\n",
       "...               ...\n",
       "2005-12-02  18.346836\n",
       "2005-12-03  22.696220\n",
       "2005-12-04  27.508312\n",
       "2005-12-05  28.594992\n",
       "2005-12-06  29.180488\n",
       "2005-12-07  28.865412\n",
       "2005-12-08  28.428462\n",
       "2005-12-09  18.563036\n",
       "2005-12-10  26.886416\n",
       "2005-12-11  28.667610\n",
       "2005-12-12  28.925874\n",
       "2005-12-13  18.252036\n",
       "2005-12-14  12.999336\n",
       "2005-12-15  21.704466\n",
       "2005-12-16   9.228031\n",
       "2005-12-17   8.623416\n",
       "2005-12-18   9.832341\n",
       "2005-12-19   4.228313\n",
       "2005-12-20  14.259243\n",
       "2005-12-21  25.742284\n",
       "2005-12-22  21.666608\n",
       "2005-12-23  24.188980\n",
       "2005-12-24  18.831882\n",
       "2005-12-25  25.040788\n",
       "2005-12-26  13.632262\n",
       "2005-12-27  21.697468\n",
       "2005-12-28  16.417594\n",
       "2005-12-29  19.213328\n",
       "2005-12-30  25.001082\n",
       "2005-12-31  10.734250\n",
       "\n",
       "[1826 rows x 1 columns]"
      ]
     },
     "execution_count": 62,
     "metadata": {},
     "output_type": "execute_result"
    }
   ],
   "source": [
    "df"
   ]
  },
  {
   "cell_type": "code",
   "execution_count": 88,
   "metadata": {
    "collapsed": true
   },
   "outputs": [],
   "source": []
  },
  {
   "cell_type": "code",
   "execution_count": null,
   "metadata": {
    "collapsed": true,
    "scrolled": true
   },
   "outputs": [],
   "source": []
  },
  {
   "cell_type": "code",
   "execution_count": 96,
   "metadata": {
    "collapsed": true,
    "scrolled": true
   },
   "outputs": [],
   "source": [
    "grid0 = pd.concat(dec.copy()[0:4])\n",
    "grid1 = pd.concat(dec.copy()[4:8])\n",
    "grid2 = pd.concat(dec.copy()[8:12])\n",
    "grid3 = pd.concat(dec.copy()[12:16])\n",
    "grid4 = pd.concat(dec.copy()[16:20])\n",
    "grid5 = pd.concat(dec.copy()[20:24])\n",
    "grid6 = pd.concat(dec.copy()[24:28])\n",
    "grid7 = pd.concat(dec.copy()[28:32])\n",
    "grid8 = pd.concat(dec.copy()[32:36])\n",
    "grid9 = pd.concat(dec.copy()[36:40])\n",
    "grid10 = pd.concat(dec.copy()[40:44])\n",
    "grid11 = pd.concat(dec.copy()[44:48])"
   ]
  },
  {
   "cell_type": "code",
   "execution_count": 98,
   "metadata": {
    "scrolled": true
   },
   "outputs": [
    {
     "data": {
      "text/html": [
       "<div>\n",
       "<style>\n",
       "    .dataframe thead tr:only-child th {\n",
       "        text-align: right;\n",
       "    }\n",
       "\n",
       "    .dataframe thead th {\n",
       "        text-align: left;\n",
       "    }\n",
       "\n",
       "    .dataframe tbody tr th {\n",
       "        vertical-align: top;\n",
       "    }\n",
       "</style>\n",
       "<table border=\"1\" class=\"dataframe\">\n",
       "  <thead>\n",
       "    <tr style=\"text-align: right;\">\n",
       "      <th></th>\n",
       "      <th>0</th>\n",
       "    </tr>\n",
       "    <tr>\n",
       "      <th>time</th>\n",
       "      <th></th>\n",
       "    </tr>\n",
       "  </thead>\n",
       "  <tbody>\n",
       "    <tr>\n",
       "      <th>1971-01-01</th>\n",
       "      <td>19.002560</td>\n",
       "    </tr>\n",
       "    <tr>\n",
       "      <th>1971-01-02</th>\n",
       "      <td>17.186056</td>\n",
       "    </tr>\n",
       "    <tr>\n",
       "      <th>1971-01-03</th>\n",
       "      <td>17.786564</td>\n",
       "    </tr>\n",
       "    <tr>\n",
       "      <th>1971-01-04</th>\n",
       "      <td>11.738238</td>\n",
       "    </tr>\n",
       "    <tr>\n",
       "      <th>1971-01-05</th>\n",
       "      <td>7.787505</td>\n",
       "    </tr>\n",
       "    <tr>\n",
       "      <th>1971-01-06</th>\n",
       "      <td>3.674282</td>\n",
       "    </tr>\n",
       "    <tr>\n",
       "      <th>1971-01-07</th>\n",
       "      <td>5.969739</td>\n",
       "    </tr>\n",
       "    <tr>\n",
       "      <th>1971-01-08</th>\n",
       "      <td>5.800960</td>\n",
       "    </tr>\n",
       "    <tr>\n",
       "      <th>1971-01-09</th>\n",
       "      <td>14.151036</td>\n",
       "    </tr>\n",
       "    <tr>\n",
       "      <th>1971-01-10</th>\n",
       "      <td>9.837920</td>\n",
       "    </tr>\n",
       "    <tr>\n",
       "      <th>1971-01-11</th>\n",
       "      <td>4.224078</td>\n",
       "    </tr>\n",
       "    <tr>\n",
       "      <th>1971-01-12</th>\n",
       "      <td>10.482675</td>\n",
       "    </tr>\n",
       "    <tr>\n",
       "      <th>1971-01-13</th>\n",
       "      <td>10.946004</td>\n",
       "    </tr>\n",
       "    <tr>\n",
       "      <th>1971-01-14</th>\n",
       "      <td>5.890720</td>\n",
       "    </tr>\n",
       "    <tr>\n",
       "      <th>1971-01-15</th>\n",
       "      <td>20.497228</td>\n",
       "    </tr>\n",
       "    <tr>\n",
       "      <th>1971-01-16</th>\n",
       "      <td>25.724556</td>\n",
       "    </tr>\n",
       "    <tr>\n",
       "      <th>1971-01-17</th>\n",
       "      <td>23.415430</td>\n",
       "    </tr>\n",
       "    <tr>\n",
       "      <th>1971-01-18</th>\n",
       "      <td>19.713688</td>\n",
       "    </tr>\n",
       "    <tr>\n",
       "      <th>1971-01-19</th>\n",
       "      <td>16.382020</td>\n",
       "    </tr>\n",
       "    <tr>\n",
       "      <th>1971-01-20</th>\n",
       "      <td>21.160024</td>\n",
       "    </tr>\n",
       "    <tr>\n",
       "      <th>1971-01-21</th>\n",
       "      <td>18.367818</td>\n",
       "    </tr>\n",
       "    <tr>\n",
       "      <th>1971-01-22</th>\n",
       "      <td>13.351270</td>\n",
       "    </tr>\n",
       "    <tr>\n",
       "      <th>1971-01-23</th>\n",
       "      <td>14.098594</td>\n",
       "    </tr>\n",
       "    <tr>\n",
       "      <th>1971-01-24</th>\n",
       "      <td>13.101087</td>\n",
       "    </tr>\n",
       "    <tr>\n",
       "      <th>1971-01-25</th>\n",
       "      <td>9.639831</td>\n",
       "    </tr>\n",
       "    <tr>\n",
       "      <th>1971-01-26</th>\n",
       "      <td>10.572973</td>\n",
       "    </tr>\n",
       "    <tr>\n",
       "      <th>1971-01-27</th>\n",
       "      <td>9.671228</td>\n",
       "    </tr>\n",
       "    <tr>\n",
       "      <th>1971-01-28</th>\n",
       "      <td>23.688452</td>\n",
       "    </tr>\n",
       "    <tr>\n",
       "      <th>1971-01-29</th>\n",
       "      <td>22.190402</td>\n",
       "    </tr>\n",
       "    <tr>\n",
       "      <th>1971-01-30</th>\n",
       "      <td>14.478688</td>\n",
       "    </tr>\n",
       "    <tr>\n",
       "      <th>...</th>\n",
       "      <td>...</td>\n",
       "    </tr>\n",
       "    <tr>\n",
       "      <th>2005-12-02</th>\n",
       "      <td>18.346836</td>\n",
       "    </tr>\n",
       "    <tr>\n",
       "      <th>2005-12-03</th>\n",
       "      <td>22.696220</td>\n",
       "    </tr>\n",
       "    <tr>\n",
       "      <th>2005-12-04</th>\n",
       "      <td>27.508312</td>\n",
       "    </tr>\n",
       "    <tr>\n",
       "      <th>2005-12-05</th>\n",
       "      <td>28.594992</td>\n",
       "    </tr>\n",
       "    <tr>\n",
       "      <th>2005-12-06</th>\n",
       "      <td>29.180488</td>\n",
       "    </tr>\n",
       "    <tr>\n",
       "      <th>2005-12-07</th>\n",
       "      <td>28.865412</td>\n",
       "    </tr>\n",
       "    <tr>\n",
       "      <th>2005-12-08</th>\n",
       "      <td>28.428462</td>\n",
       "    </tr>\n",
       "    <tr>\n",
       "      <th>2005-12-09</th>\n",
       "      <td>18.563036</td>\n",
       "    </tr>\n",
       "    <tr>\n",
       "      <th>2005-12-10</th>\n",
       "      <td>26.886416</td>\n",
       "    </tr>\n",
       "    <tr>\n",
       "      <th>2005-12-11</th>\n",
       "      <td>28.667610</td>\n",
       "    </tr>\n",
       "    <tr>\n",
       "      <th>2005-12-12</th>\n",
       "      <td>28.925874</td>\n",
       "    </tr>\n",
       "    <tr>\n",
       "      <th>2005-12-13</th>\n",
       "      <td>18.252036</td>\n",
       "    </tr>\n",
       "    <tr>\n",
       "      <th>2005-12-14</th>\n",
       "      <td>12.999336</td>\n",
       "    </tr>\n",
       "    <tr>\n",
       "      <th>2005-12-15</th>\n",
       "      <td>21.704466</td>\n",
       "    </tr>\n",
       "    <tr>\n",
       "      <th>2005-12-16</th>\n",
       "      <td>9.228031</td>\n",
       "    </tr>\n",
       "    <tr>\n",
       "      <th>2005-12-17</th>\n",
       "      <td>8.623416</td>\n",
       "    </tr>\n",
       "    <tr>\n",
       "      <th>2005-12-18</th>\n",
       "      <td>9.832341</td>\n",
       "    </tr>\n",
       "    <tr>\n",
       "      <th>2005-12-19</th>\n",
       "      <td>4.228313</td>\n",
       "    </tr>\n",
       "    <tr>\n",
       "      <th>2005-12-20</th>\n",
       "      <td>14.259243</td>\n",
       "    </tr>\n",
       "    <tr>\n",
       "      <th>2005-12-21</th>\n",
       "      <td>25.742284</td>\n",
       "    </tr>\n",
       "    <tr>\n",
       "      <th>2005-12-22</th>\n",
       "      <td>21.666608</td>\n",
       "    </tr>\n",
       "    <tr>\n",
       "      <th>2005-12-23</th>\n",
       "      <td>24.188980</td>\n",
       "    </tr>\n",
       "    <tr>\n",
       "      <th>2005-12-24</th>\n",
       "      <td>18.831882</td>\n",
       "    </tr>\n",
       "    <tr>\n",
       "      <th>2005-12-25</th>\n",
       "      <td>25.040788</td>\n",
       "    </tr>\n",
       "    <tr>\n",
       "      <th>2005-12-26</th>\n",
       "      <td>13.632262</td>\n",
       "    </tr>\n",
       "    <tr>\n",
       "      <th>2005-12-27</th>\n",
       "      <td>21.697468</td>\n",
       "    </tr>\n",
       "    <tr>\n",
       "      <th>2005-12-28</th>\n",
       "      <td>16.417594</td>\n",
       "    </tr>\n",
       "    <tr>\n",
       "      <th>2005-12-29</th>\n",
       "      <td>19.213328</td>\n",
       "    </tr>\n",
       "    <tr>\n",
       "      <th>2005-12-30</th>\n",
       "      <td>25.001082</td>\n",
       "    </tr>\n",
       "    <tr>\n",
       "      <th>2005-12-31</th>\n",
       "      <td>10.734250</td>\n",
       "    </tr>\n",
       "  </tbody>\n",
       "</table>\n",
       "<p>12784 rows × 1 columns</p>\n",
       "</div>"
      ],
      "text/plain": [
       "                    0\n",
       "time                 \n",
       "1971-01-01  19.002560\n",
       "1971-01-02  17.186056\n",
       "1971-01-03  17.786564\n",
       "1971-01-04  11.738238\n",
       "1971-01-05   7.787505\n",
       "1971-01-06   3.674282\n",
       "1971-01-07   5.969739\n",
       "1971-01-08   5.800960\n",
       "1971-01-09  14.151036\n",
       "1971-01-10   9.837920\n",
       "1971-01-11   4.224078\n",
       "1971-01-12  10.482675\n",
       "1971-01-13  10.946004\n",
       "1971-01-14   5.890720\n",
       "1971-01-15  20.497228\n",
       "1971-01-16  25.724556\n",
       "1971-01-17  23.415430\n",
       "1971-01-18  19.713688\n",
       "1971-01-19  16.382020\n",
       "1971-01-20  21.160024\n",
       "1971-01-21  18.367818\n",
       "1971-01-22  13.351270\n",
       "1971-01-23  14.098594\n",
       "1971-01-24  13.101087\n",
       "1971-01-25   9.639831\n",
       "1971-01-26  10.572973\n",
       "1971-01-27   9.671228\n",
       "1971-01-28  23.688452\n",
       "1971-01-29  22.190402\n",
       "1971-01-30  14.478688\n",
       "...               ...\n",
       "2005-12-02  18.346836\n",
       "2005-12-03  22.696220\n",
       "2005-12-04  27.508312\n",
       "2005-12-05  28.594992\n",
       "2005-12-06  29.180488\n",
       "2005-12-07  28.865412\n",
       "2005-12-08  28.428462\n",
       "2005-12-09  18.563036\n",
       "2005-12-10  26.886416\n",
       "2005-12-11  28.667610\n",
       "2005-12-12  28.925874\n",
       "2005-12-13  18.252036\n",
       "2005-12-14  12.999336\n",
       "2005-12-15  21.704466\n",
       "2005-12-16   9.228031\n",
       "2005-12-17   8.623416\n",
       "2005-12-18   9.832341\n",
       "2005-12-19   4.228313\n",
       "2005-12-20  14.259243\n",
       "2005-12-21  25.742284\n",
       "2005-12-22  21.666608\n",
       "2005-12-23  24.188980\n",
       "2005-12-24  18.831882\n",
       "2005-12-25  25.040788\n",
       "2005-12-26  13.632262\n",
       "2005-12-27  21.697468\n",
       "2005-12-28  16.417594\n",
       "2005-12-29  19.213328\n",
       "2005-12-30  25.001082\n",
       "2005-12-31  10.734250\n",
       "\n",
       "[12784 rows x 1 columns]"
      ]
     },
     "execution_count": 98,
     "metadata": {},
     "output_type": "execute_result"
    }
   ],
   "source": [
    "grid11"
   ]
  },
  {
   "cell_type": "code",
   "execution_count": null,
   "metadata": {
    "collapsed": true
   },
   "outputs": [],
   "source": [
    "\n"
   ]
  }
 ],
 "metadata": {
  "kernelspec": {
   "display_name": "Python 3",
   "language": "python",
   "name": "python3"
  },
  "language_info": {
   "codemirror_mode": {
    "name": "ipython",
    "version": 3
   },
   "file_extension": ".py",
   "mimetype": "text/x-python",
   "name": "python",
   "nbconvert_exporter": "python",
   "pygments_lexer": "ipython3",
   "version": "3.6.3"
  }
 },
 "nbformat": 4,
 "nbformat_minor": 2
}
