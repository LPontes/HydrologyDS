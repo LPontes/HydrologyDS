{
 "cells": [
  {
   "cell_type": "markdown",
   "metadata": {},
   "source": [
    "# Export daily precipitation in mm"
   ]
  },
  {
   "cell_type": "code",
   "execution_count": 10,
   "metadata": {
    "collapsed": true
   },
   "outputs": [],
   "source": [
    "%matplotlib inline\n",
    "import xarray as xr\n",
    "import pandas as pd\n",
    "import numpy as np\n"
   ]
  },
  {
   "cell_type": "markdown",
   "metadata": {},
   "source": [
    "## Import dataset"
   ]
  },
  {
   "cell_type": "code",
   "execution_count": 11,
   "metadata": {},
   "outputs": [
    {
     "data": {
      "text/plain": [
       "Frozen(OrderedDict([('lon', <xarray.IndexVariable 'lon' (lon: 38)>\n",
       "array([-57.75, -57.25, -56.75, -56.25, -55.75, -55.25, -54.75, -54.25, -53.75,\n",
       "       -53.25, -52.75, -52.25, -51.75, -51.25, -50.75, -50.25, -49.75, -49.25,\n",
       "       -48.75, -48.25, -47.75, -47.25, -46.75, -46.25, -45.75, -45.25, -44.75,\n",
       "       -44.25, -43.75, -43.25, -42.75, -42.25, -41.75, -41.25, -40.75, -40.25,\n",
       "       -39.75, -39.25])\n",
       "Attributes:\n",
       "    standard_name:  longitude\n",
       "    long_name:      longitude\n",
       "    units:          degrees_east\n",
       "    axis:           X), ('lat', <xarray.IndexVariable 'lat' (lat: 26)>\n",
       "array([-16.25, -16.75, -17.25, -17.75, -18.25, -18.75, -19.25, -19.75, -20.25,\n",
       "       -20.75, -21.25, -21.75, -22.25, -22.75, -23.25, -23.75, -24.25, -24.75,\n",
       "       -25.25, -25.75, -26.25, -26.75, -27.25, -27.75, -28.25, -28.75])\n",
       "Attributes:\n",
       "    standard_name:  latitude\n",
       "    long_name:      latitude\n",
       "    units:          degrees_north\n",
       "    axis:           Y), ('time', <xarray.IndexVariable 'time' (time: 3653)>\n",
       "array(['1971-01-01T00:00:00.000000000', '1971-01-02T00:00:00.000000000',\n",
       "       '1971-01-03T00:00:00.000000000', ..., '1980-12-29T00:00:00.000000000',\n",
       "       '1980-12-30T00:00:00.000000000', '1980-12-31T00:00:00.000000000'],\n",
       "      dtype='datetime64[ns]')\n",
       "Attributes:\n",
       "    standard_name:  time\n",
       "    long_name:      time\n",
       "    axis:           T), ('pr', <xarray.Variable (time: 3653, lat: 26, lon: 38)>\n",
       "[3609164 values with dtype=float32]\n",
       "Attributes:\n",
       "    standard_name:  precipitation_flux\n",
       "    long_name:      Precipitation\n",
       "    units:          kg m-2 s-1)]))"
      ]
     },
     "execution_count": 11,
     "metadata": {},
     "output_type": "execute_result"
    }
   ],
   "source": [
    "df0 = xr.open_dataset(\"pr_day_GFDL-ESM2M_historical_r1i1p1_EWEMBI_landonly_19710101-19801231_sp_exp.nc4\")\n",
    "df1 = xr.open_dataset(\"pr_day_GFDL-ESM2M_historical_r1i1p1_EWEMBI_landonly_19810101-19901231_sp_exp.nc4\")\n",
    "df2 = xr.open_dataset(\"pr_day_GFDL-ESM2M_historical_r1i1p1_EWEMBI_landonly_19910101-20001231_sp_exp.nc4\")\n",
    "df3 = xr.open_dataset(\"pr_day_GFDL-ESM2M_historical_r1i1p1_EWEMBI_landonly_20010101-20051231_sp_exp.nc4\")\n",
    "df=[df0, df1, df2, df3]\n",
    "df0.variables"
   ]
  },
  {
   "cell_type": "markdown",
   "metadata": {},
   "source": [
    "## extract"
   ]
  },
  {
   "cell_type": "code",
   "execution_count": 12,
   "metadata": {
    "collapsed": true
   },
   "outputs": [],
   "source": [
    "points=[]\n",
    "for i in [-22.25, -22.75, -23.25]:\n",
    "    for j in [-47.75, -47.25, -46.75, -46.25]:\n",
    "        points.append([i,j])"
   ]
  },
  {
   "cell_type": "code",
   "execution_count": 13,
   "metadata": {
    "collapsed": true
   },
   "outputs": [],
   "source": [
    "dec=[]\n",
    "for coords in points:\n",
    "    for ano in range(0,4):\n",
    "        dec.append(pd.DataFrame((df[ano].\n",
    "                                 sel(lon = coords[1], lat = coords[0])[\"pr\"]).data*3600*24 ,\n",
    "                                index = df[ano].sel(lon = coords[1], lat = coords[0]).time).round())"
   ]
  },
  {
   "cell_type": "code",
   "execution_count": 14,
   "metadata": {
    "collapsed": true
   },
   "outputs": [],
   "source": [
    "grid = []\n",
    "for i in range(0,len(dec),4):\n",
    "    grid.append(pd.concat(dec.copy()[i:i+4]))"
   ]
  },
  {
   "cell_type": "markdown",
   "metadata": {},
   "source": [
    "## Export "
   ]
  },
  {
   "cell_type": "code",
   "execution_count": 15,
   "metadata": {
    "collapsed": true
   },
   "outputs": [],
   "source": [
    "#já exporta no formato usado pelo SWAT\n",
    "for i in range(len(grid)):\n",
    "    grid[i].to_csv(path_or_buf= \"pr_grid\"+str(i)+\".txt\", index = False, header = [\"19710101\"])"
   ]
  },
  {
   "cell_type": "code",
   "execution_count": null,
   "metadata": {
    "collapsed": true
   },
   "outputs": [],
   "source": []
  },
  {
   "cell_type": "code",
   "execution_count": null,
   "metadata": {
    "collapsed": true
   },
   "outputs": [],
   "source": []
  },
  {
   "cell_type": "code",
   "execution_count": null,
   "metadata": {
    "collapsed": true
   },
   "outputs": [],
   "source": []
  },
  {
   "cell_type": "code",
   "execution_count": null,
   "metadata": {
    "collapsed": true
   },
   "outputs": [],
   "source": []
  },
  {
   "cell_type": "code",
   "execution_count": null,
   "metadata": {
    "collapsed": true
   },
   "outputs": [],
   "source": []
  },
  {
   "cell_type": "code",
   "execution_count": null,
   "metadata": {
    "collapsed": true
   },
   "outputs": [],
   "source": []
  },
  {
   "cell_type": "code",
   "execution_count": null,
   "metadata": {
    "collapsed": true
   },
   "outputs": [],
   "source": []
  },
  {
   "cell_type": "code",
   "execution_count": null,
   "metadata": {
    "collapsed": true
   },
   "outputs": [],
   "source": []
  },
  {
   "cell_type": "code",
   "execution_count": null,
   "metadata": {
    "collapsed": true
   },
   "outputs": [],
   "source": []
  },
  {
   "cell_type": "code",
   "execution_count": null,
   "metadata": {
    "collapsed": true
   },
   "outputs": [],
   "source": []
  },
  {
   "cell_type": "code",
   "execution_count": null,
   "metadata": {
    "collapsed": true
   },
   "outputs": [],
   "source": []
  },
  {
   "cell_type": "code",
   "execution_count": null,
   "metadata": {
    "collapsed": true
   },
   "outputs": [],
   "source": []
  },
  {
   "cell_type": "markdown",
   "metadata": {
    "collapsed": true
   }
    
